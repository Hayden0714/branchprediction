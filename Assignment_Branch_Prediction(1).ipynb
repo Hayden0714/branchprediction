{
  "cells": [
    {
      "cell_type": "markdown",
      "metadata": {
        "id": "view-in-github",
        "colab_type": "text"
      },
      "source": [
        "<a href=\"https://colab.research.google.com/github/Hayden0714/branchprediction/blob/main/Assignment_Branch_Prediction(1).ipynb\" target=\"_parent\"><img src=\"https://colab.research.google.com/assets/colab-badge.svg\" alt=\"Open In Colab\"/></a>"
      ]
    },
    {
      "cell_type": "markdown",
      "metadata": {
        "id": "2EEU6QX6CzOY"
      },
      "source": [
        "# CS4200"
      ]
    },
    {
      "cell_type": "markdown",
      "metadata": {
        "id": "QSroSXpkCzOZ"
      },
      "source": [
        "# Assignment 4 Branching\n",
        "\n",
        "Total 100 points"
      ]
    },
    {
      "cell_type": "markdown",
      "metadata": {
        "id": "xV99DvIICzOa"
      },
      "source": [
        "This assignment is based off of one-bit and two-bit branch predictors.\n",
        "To simulate instructions and whether branches will occur or not, the provided methods `next_branch_outcome_random` and `next_branch_outcome_loop` will be used. These methods will simulate a completely random prediction outcome, and a set of outcomes that would more closely resemble a series of loops. A return of `True` represents taking a branch, and a `False` represents not taking a branch.\n",
        "\n",
        "The class `Predictor` represents the predictor. It is best practice to set the initial state to 0."
      ]
    },
    {
      "cell_type": "code",
      "execution_count": 12,
      "metadata": {
        "id": "P7-GCT20CzOa"
      },
      "outputs": [],
      "source": [
        "from random import paretovariate\n",
        "from random import random\n",
        "\n",
        "def next_branch_outcome_loop():\n",
        "    alpha = 2\n",
        "    outcome = paretovariate(alpha)\n",
        "    outcome = outcome > 2\n",
        "    return outcome\n",
        "\n",
        "def next_branch_outcome_random():\n",
        "    outcome = random()\n",
        "    outcome = outcome > 0.5\n",
        "    return outcome\n",
        "\n",
        "class Predictor:\n",
        "    \n",
        "    def __init__(self):\n",
        "        self.state = 0\n",
        "    \n",
        "    def next_predict(self):\n",
        "       if self.state ==0:\n",
        "         return False\n",
        "       else:\n",
        "          return True\n",
        "        \n",
        "    def incorrect_predict(self):\n",
        "        \"\"\"\n",
        "        Use this method to set the next state if an incorrect predict\n",
        "        occurred. (self.state = next_state)\n",
        "        \"\"\"\n",
        "        \"set the state to the opposite i think\"\n",
        "\n",
        "        if self.state == 0:\n",
        "          next_state = 1\n",
        "        else:\n",
        "          next_state = 0\n",
        "        \n",
        "    def correct_predict(self):\n",
        "        \"\"\"\n",
        "        Use this method to set the next state if an incorrect predict\n",
        "        occurred. (self.state = next_state)\n",
        "        \"\"\"\n",
        "        \"keep the state its in because the prediction was correct\"\n",
        "        next_state = self.state"
      ]
    },
    {
      "cell_type": "markdown",
      "metadata": {
        "id": "ouJ1yTJgCzOb"
      },
      "source": [
        "## One Bit Predictor\n",
        "\n",
        "Complete the `OneBitPredictor` class by implementing the `next_predict`, `incorrect_predict`, and `correct_predict` methods. This instantiation will be used to compute the prediction accuracy. Use the `next_predict` method of the class to predict the next branch state. If the predict is incorrect, use the `incorrect_predict` method to set the next state. If the predict is correct, use the `correct_predict` method to set the next state."
      ]
    },
    {
      "cell_type": "code",
      "execution_count": 25,
      "metadata": {
        "deletable": false,
        "nbgrader": {
          "checksum": "739a279cea7c1974c3a0180cb10fbcae",
          "grade": true,
          "grade_id": "cell-e3aa7feb611b9370",
          "locked": false,
          "points": 0,
          "schema_version": 1,
          "solution": true
        },
        "id": "4HlMR_r6CzOc"
      },
      "outputs": [],
      "source": [
        "class OneBitPredictor(Predictor):\n",
        "    #make a prediction based on the current state\n",
        "    def next_predict(self):\n",
        "        # YOUR CODE HERE\n",
        "        if self.state == 0:\n",
        "          return False\n",
        "        else:\n",
        "          return True\n",
        "        \n",
        "    def incorrect_predict(self):\n",
        "        # YOUR CODE HERE\n",
        "        #flip the state because we were wrong\n",
        "        if self.state == 0:\n",
        "          self.state = 1\n",
        "        else:\n",
        "          self.state = 0\n",
        "        \n",
        "    def correct_predict(self):\n",
        "        # YOUR CODE HERE\n",
        "        #the prediction is correct, so you keep the state\n",
        "\n",
        "        #do something?\n",
        "        return True"
      ]
    },
    {
      "cell_type": "markdown",
      "metadata": {
        "id": "LCLUhCajCzOc"
      },
      "source": [
        "### Random Branch Prediction\n",
        "\n",
        "Use the `next_branch_outcome_random` method to generate branch outcomes. Use the previously implemented methods to compute a prediction rate. (25 points)"
      ]
    },
    {
      "cell_type": "code",
      "execution_count": 32,
      "metadata": {
        "deletable": false,
        "nbgrader": {
          "checksum": "f480432bbb7a4c7e4327191ed55505f1",
          "grade": true,
          "grade_id": "cell-0d465713556a19e0",
          "locked": false,
          "points": 0,
          "schema_version": 1,
          "solution": true
        },
        "id": "sy-tgnjVCzOd",
        "colab": {
          "base_uri": "https://localhost:8080/"
        },
        "outputId": "35e8feee-41a0-4e44-ca97-c1660f5d0551"
      },
      "outputs": [
        {
          "output_type": "stream",
          "name": "stdout",
          "text": [
            "The Prediction Rate for the random outcome is: 0.58\n"
          ]
        }
      ],
      "source": [
        "# YOUR CODE HERE\n",
        "#run an outcome, then make a prediction, then run an outcome and compare the predictino to the outcome\n",
        "#keep track of the total number of outcomes ran -1 to be the total, then keep track of the amount of predictions\n",
        "#and predictions/random outcomes is the prediction rate\n",
        "\n",
        "#create a onebitpredictor class\n",
        "#run this 100 times to get a decent prediction rate\n",
        "\n",
        "#counter for the prediction rate\n",
        "correctPredictionCounter = 0\n",
        "for x in range(100):\n",
        "  #get a random prediction\n",
        "  tempOutcome = next_branch_outcome_random()\n",
        "\n",
        "  #create a one bit predictor\n",
        "  obp = OneBitPredictor()\n",
        "  \n",
        "  #compare the random outcome to the state of the obp and call the correct\n",
        "  #obp method based on what happend\n",
        "  if obp.state == tempOutcome:\n",
        "    obp.incorrect_predict()\n",
        "  else:\n",
        "    correctPredictionCounter = correctPredictionCounter + 1\n",
        "    obp.correct_predict()\n",
        "\n",
        "\n",
        "#print the prediction rate, divide by 100 since we ran the for loop \n",
        "#100 times\n",
        "pRate = correctPredictionCounter / 100\n",
        "print(\"The Prediction Rate for the random outcome is: \" + str(pRate))"
      ]
    },
    {
      "cell_type": "markdown",
      "metadata": {
        "id": "-rCP1tp4CzOd"
      },
      "source": [
        "### Loop Branch Prediction\n",
        "\n",
        "Use the `next_branch_outcome_loop` method to generate branch outcomes. Use the previously implemented methods to compute a prediction rate. (25 points)"
      ]
    },
    {
      "cell_type": "code",
      "execution_count": 38,
      "metadata": {
        "deletable": false,
        "nbgrader": {
          "checksum": "1aca1014f78f8be7ebd7902c9f837f3d",
          "grade": true,
          "grade_id": "cell-9e8421a48773104a",
          "locked": false,
          "points": 0,
          "schema_version": 1,
          "solution": true
        },
        "id": "b8Qfc7mMCzOe",
        "colab": {
          "base_uri": "https://localhost:8080/"
        },
        "outputId": "3f4bd16c-108c-4081-c17f-4d2b52bcd96a"
      },
      "outputs": [
        {
          "output_type": "stream",
          "name": "stdout",
          "text": [
            "The Prediction Success Rate for the loop outcome is: 0.81\n"
          ]
        }
      ],
      "source": [
        "# YOUR CODE HERE\n",
        "\n",
        "#create a onebitpredictor class\n",
        "#run this 100 times to get a decent prediction rate\n",
        "\n",
        "#counter for the prediction rate\n",
        "correctPredictionCounter = 0\n",
        "for x in range(100):\n",
        "  #get a random prediction\n",
        "  tempOutcome = next_branch_outcome_loop()\n",
        "\n",
        "  #create a one bit predictor\n",
        "  obp = OneBitPredictor()\n",
        "  \n",
        "  #compare the random outcome to the state of the obp and call the correct\n",
        "  #obp method based on what happend\n",
        "  if obp.state == tempOutcome:\n",
        "    correctPredictionCounter = correctPredictionCounter + 1\n",
        "    obp.correct_predict()\n",
        "  else:\n",
        "     obp.incorrect_predict()\n",
        "\n",
        "\n",
        "#print the prediction rate\n",
        "pRate = correctPredictionCounter / 100\n",
        "print(\"The Prediction Success Rate for the loop outcome is: \" + str(pRate))"
      ]
    },
    {
      "cell_type": "markdown",
      "metadata": {
        "id": "NxpjY83HCzOe"
      },
      "source": [
        "## Two Bit Predictor\n",
        "\n",
        "Complete the `TwoBitPredictor` class by implementing the `next_predict`, `incorrect_predict`, and `correct_predict` methods. This instantiation will be used to compute the prediction accuracy. Use the `next_predict` method of the class to predict the next branch state. If the predict is incorrect, use the `incorrect_predict` method to set the next state. If the predict is correct, use the `correct_predict` method to set the next state."
      ]
    },
    {
      "cell_type": "code",
      "execution_count": null,
      "metadata": {
        "deletable": false,
        "nbgrader": {
          "checksum": "453af3bda00f97e54c0d492ac1cbcfdd",
          "grade": true,
          "grade_id": "cell-8534a496fa4a0c73",
          "locked": false,
          "points": 0,
          "schema_version": 1,
          "solution": true
        },
        "id": "bJb17apACzOf"
      },
      "outputs": [],
      "source": [
        "class TwoBitPredictor(Predictor):\n",
        "    \n",
        "    def next_predict(self):\n",
        "        # YOUR CODE HERE\n",
        "\n",
        "        #if the state is 0 or 1, you predict not taken\n",
        "        if self.state == 0 or self.state == 1:\n",
        "          return False\n",
        "        else:\n",
        "          return True\n",
        "        \n",
        "    def incorrect_predict(self):\n",
        "        # YOUR CODE HERE\n",
        "        #if it was incorrect, you decrement the state, if its 0 it stays there\n",
        "        if self.state != 0:\n",
        "          self.state = self.state - 1\n",
        "        \n",
        "    def correct_predict(self):\n",
        "        # YOUR CODE HERE\n",
        "        #if it is correct, you go up by 1, if its 3 it stays there\n",
        "        if self.state != 3:\n",
        "          self.state = self.state + 1\n",
        "        raise NotImplementedError()"
      ]
    },
    {
      "cell_type": "markdown",
      "metadata": {
        "id": "QUgI0s4cCzOf"
      },
      "source": [
        "### Random Branch Prediction\n",
        "\n",
        "Use the `next_branch_outcome_random` method to generate branch outcomes. Use the previously implemented methods to compute a prediction rate. (25 points)"
      ]
    },
    {
      "cell_type": "code",
      "execution_count": null,
      "metadata": {
        "deletable": false,
        "nbgrader": {
          "checksum": "ba2df5433d435d49f833bbe85837d766",
          "grade": true,
          "grade_id": "cell-4ef6bdcc1b0112fb",
          "locked": false,
          "points": 0,
          "schema_version": 1,
          "solution": true
        },
        "id": "9JXjss79CzOf"
      },
      "outputs": [],
      "source": [
        "# YOUR CODE HERE\n",
        "#run an outcome, then make a prediction, then run an outcome and compare the predictino to the outcome\n",
        "#keep track of the total number of outcomes ran -1 to be the total, then keep track of the amount of predictions\n",
        "#and predictions/random outcomes is the prediction rate\n",
        "\n",
        "#create a onebitpredictor class\n",
        "#run this 100 times to get a decent prediction rate\n",
        "\n",
        "#counter for the prediction rate\n",
        "correctPredictionCounter = 0\n",
        "for x in range(100):\n",
        "  #get a random prediction\n",
        "  tempOutcome = next_branch_outcome_random()\n",
        "\n",
        "  #create a one bit predictor\n",
        "  obp = OneBitPredictor()\n",
        "  \n",
        "  #compare the random outcome to the state of the obp and call the correct\n",
        "  #obp method based on what happend\n",
        "  if obp.state == tempOutcome:\n",
        "    obp.incorrect_predict()\n",
        "  else:\n",
        "    correctPredictionCounter = correctPredictionCounter + 1\n",
        "    obp.correct_predict()\n",
        "\n",
        "\n",
        "#print the prediction rate, divide by 100 since we ran the for loop \n",
        "#100 times\n",
        "pRate = correctPredictionCounter / 100\n",
        "print(\"The Prediction Rate for the random outcome is: \" + str(pRate))"
      ]
    },
    {
      "cell_type": "markdown",
      "metadata": {
        "id": "g2FH2R83CzOg"
      },
      "source": [
        "### Loop Branch Prediction\n",
        "\n",
        "Use the `next_branch_outcome_loop` method to generate branch outcomes. Use the previously implemented methods to compute a prediction rate. (25 points)"
      ]
    },
    {
      "cell_type": "code",
      "execution_count": null,
      "metadata": {
        "deletable": false,
        "nbgrader": {
          "checksum": "349adce20a40ecfc993dc2c455501db6",
          "grade": true,
          "grade_id": "cell-f7bb3a35d6b9e0e8",
          "locked": false,
          "points": 0,
          "schema_version": 1,
          "solution": true
        },
        "id": "hQas2N_bCzOg"
      },
      "outputs": [],
      "source": [
        "# YOUR CODE HERE\n",
        "raise NotImplementedError()"
      ]
    },
    {
      "cell_type": "markdown",
      "metadata": {
        "id": "WjN0ZlfpCzOg"
      },
      "source": [
        "## N-Bit Predictor\n",
        "\n",
        "Extra credit: 30 points.\n",
        "Inherit the `Predictor` class and implement it's methods just like before. Now, implement an `n-bit` predictor that represents a higher confidence prediction."
      ]
    },
    {
      "cell_type": "code",
      "execution_count": null,
      "metadata": {
        "deletable": false,
        "nbgrader": {
          "checksum": "43643e55404d4bb3e0c3e22818e32bd3",
          "grade": true,
          "grade_id": "cell-2d366477b01f0499",
          "locked": false,
          "points": 0,
          "schema_version": 1,
          "solution": true
        },
        "id": "QCRx-nc-CzOg"
      },
      "outputs": [],
      "source": [
        "# YOUR CODE HERE\n",
        "raise NotImplementedError()"
      ]
    },
    {
      "cell_type": "markdown",
      "metadata": {
        "id": "gAN8_RvjCzOh"
      },
      "source": [
        "### Random Branch Prediction\n",
        "\n",
        "Use the `next_branch_outcome_random` method to generate branch outcomes. Use the previously implemented methods to compute a prediction rate. (10 points)"
      ]
    },
    {
      "cell_type": "code",
      "execution_count": null,
      "metadata": {
        "deletable": false,
        "nbgrader": {
          "checksum": "22e6177850a2be76f68299a831f30f38",
          "grade": true,
          "grade_id": "cell-6fd81fa9e8ae856d",
          "locked": false,
          "points": 10,
          "schema_version": 1,
          "solution": true
        },
        "id": "1NY_IMAqCzOh"
      },
      "outputs": [],
      "source": [
        "# YOUR CODE HERE\n",
        "raise NotImplementedError()"
      ]
    },
    {
      "cell_type": "markdown",
      "metadata": {
        "id": "jn0E37f4CzOh"
      },
      "source": [
        "### Loop Branch Prediction\n",
        "\n",
        "Use the `next_branch_outcome_loop` method to generate branch outcomes. Use the previously implemented methods to compute a prediction rate. (10 points)"
      ]
    },
    {
      "cell_type": "code",
      "execution_count": null,
      "metadata": {
        "deletable": false,
        "nbgrader": {
          "checksum": "57216930ab4a3b8ed9fee46da17fab2e",
          "grade": true,
          "grade_id": "cell-0eea562a7e158b9a",
          "locked": false,
          "points": 0,
          "schema_version": 1,
          "solution": true
        },
        "id": "7v8qLS8BCzOh"
      },
      "outputs": [],
      "source": [
        "# YOUR CODE HERE\n",
        "raise NotImplementedError()"
      ]
    }
  ],
  "metadata": {
    "kernelspec": {
      "display_name": "Python 3",
      "language": "python",
      "name": "python3"
    },
    "language_info": {
      "codemirror_mode": {
        "name": "ipython",
        "version": 3
      },
      "file_extension": ".py",
      "mimetype": "text/x-python",
      "name": "python",
      "nbconvert_exporter": "python",
      "pygments_lexer": "ipython3",
      "version": "3.6.9"
    },
    "colab": {
      "provenance": [],
      "include_colab_link": true
    }
  },
  "nbformat": 4,
  "nbformat_minor": 0
}